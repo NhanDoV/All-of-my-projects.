{
 "cells": [
  {
   "cell_type": "code",
   "execution_count": 1,
   "id": "e123fadc",
   "metadata": {},
   "outputs": [],
   "source": [
    "# pip install transformers\n",
    "from transformers import pipeline\n",
    "import warnings"
   ]
  },
  {
   "cell_type": "code",
   "execution_count": 2,
   "id": "35484b69",
   "metadata": {},
   "outputs": [],
   "source": [
    "warnings.filterwarnings(\"ignore\")\n",
    "model = pipeline(\"text-generation\", model = \"gpt2\")"
   ]
  },
  {
   "cell_type": "code",
   "execution_count": 3,
   "id": "3b3f537b",
   "metadata": {},
   "outputs": [
    {
     "name": "stderr",
     "output_type": "stream",
     "text": [
      "Setting `pad_token_id` to `eos_token_id`:50256 for open-end generation.\n"
     ]
    },
    {
     "name": "stdout",
     "output_type": "stream",
     "text": [
      "Hi, how are you feeling lately? Why are you here?\"\n",
      "\n",
      "\"I am happy I found my feet again. I will see you soon. We will meet again in our new home.\"\n",
      "\n",
      "\"Oh my god, what a wonderful day we're having!\"\n",
      "\n",
      "The first meeting with Brel, then with my brother and the people who live in our house. I think about how he and I became the family members of Jesus. Now we're all now together again.\n",
      "\n",
      "\"I'm so glad the church has seen your family.\"\n",
      "\n",
      "\"It has. We\n"
     ]
    }
   ],
   "source": [
    "input_text = \"Hi, how are you\"\n",
    "sentence = model(input_text, \n",
    "                 do_sample=True, top_k=50, \n",
    "                 temperature=0.9, max_length=120)\n",
    "\n",
    "print(sentence[0][\"generated_text\"])"
   ]
  },
  {
   "cell_type": "code",
   "execution_count": 4,
   "id": "c6bbfa20",
   "metadata": {},
   "outputs": [
    {
     "name": "stdout",
     "output_type": "stream",
     "text": [
      "Me: Hi there \n",
      "--------------------------------------------------\n",
      "Bot:\n",
      "Q: How was your time in San Jose?A: I've been out for five days. It's been nice. I've been out for a week and got some rest.Q: What kind of challenges does it take to become a\n",
      "====================================================================================================\n",
      "Me: I am Lucifer, and you \n",
      "--------------------------------------------------\n",
      "Bot:\n",
      "The first of these three is \"Jesus.\" This is the name of Jesus Christ, the Savior of the world. This is the first of two names, \"Jesus Christ and the Son of God.\" This is what Jesus means when he says \"My God, my God, my God, my God, my God, my God, my God, my God.\" The third is \"the Son of God.\" He is Jesus Christ.The third is \"\n",
      "====================================================================================================\n",
      "Me: where are you \n",
      "--------------------------------------------------\n",
      "Bot:\n",
      "[Aboard the ferry][Gives the signal][Gates open][Gates open][Gates open][Gates open][Gates open][Gates open][Gates open][Gates open][Gates open][Gates open][Gates open][Gates open]\n",
      "====================================================================================================\n",
      "Me: what do you want? \n",
      "--------------------------------------------------\n",
      "Bot:\n",
      "what do you want?\n",
      "====================================================================================================\n",
      "Me: where is the U.S \n",
      "--------------------------------------------------\n",
      "Bot:\n",
      "It's a lot. The U.S. is not in the same league and I think you'd have to go back to the 1950's and 1950s. The league is in a similar situation as the World Bank. You know, in the 1920s you got to make a lot of investments that didn't have much value and so they made it a lot easier to do that. The World Bank, they were doing what they do, but it is a different league now. The World Bank is not the only one. They do other things that\n",
      "====================================================================================================\n"
     ]
    }
   ],
   "source": [
    "for input_text in [\"Hi there\", \"I am Lucifer, and you\", \"where are you\", \"what do you want?\", \"where is the U.S\"]:\n",
    "    sentence = model(input_text, \n",
    "                     do_sample=True, top_k=10, \n",
    "                     temperature=0.95, max_length=120,\n",
    "                     pad_token_id=model.tokenizer.eos_token_id\n",
    "                    )\n",
    "    response = sentence[0][\"generated_text\"]\n",
    "    rot_resp = ''.join(response.replace('\\n\\n','\\n').split('\\n')[1:])\n",
    "    print(f\"Me: {input_text} \\n{50*'-'}\")\n",
    "    print(\"Bot:\")\n",
    "    if len(rot_resp) > 0:\n",
    "        print(rot_resp)\n",
    "    else:\n",
    "        print(response)\n",
    "    print(100*'=')"
   ]
  }
 ],
 "metadata": {
  "kernelspec": {
   "display_name": "Python 3 (ipykernel)",
   "language": "python",
   "name": "python3"
  },
  "language_info": {
   "codemirror_mode": {
    "name": "ipython",
    "version": 3
   },
   "file_extension": ".py",
   "mimetype": "text/x-python",
   "name": "python",
   "nbconvert_exporter": "python",
   "pygments_lexer": "ipython3",
   "version": "3.7.9"
  }
 },
 "nbformat": 4,
 "nbformat_minor": 5
}
